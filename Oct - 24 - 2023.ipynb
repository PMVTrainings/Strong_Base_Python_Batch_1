{
 "cells": [
  {
   "cell_type": "markdown",
   "id": "dbdd5b21",
   "metadata": {},
   "source": [
    "## Data Structures in Python\n",
    "- To organize the data we can use DS\n",
    "- List --> []\n",
    "- Tuples --> ()\n",
    "- Dictionaries --> {}\n",
    "- Set ---> ()"
   ]
  },
  {
   "cell_type": "markdown",
   "id": "b332d305",
   "metadata": {},
   "source": [
    "### List"
   ]
  },
  {
   "cell_type": "code",
   "execution_count": 1,
   "id": "8a136f2f",
   "metadata": {},
   "outputs": [],
   "source": [
    "#List\n",
    "# List is collection of hetrogineous data(Different types of data(int,string,float,boolean....))\n",
    "#How do we create the list Syntax: varibalename = []\n",
    "li = []"
   ]
  },
  {
   "cell_type": "code",
   "execution_count": 2,
   "id": "838110ad",
   "metadata": {},
   "outputs": [
    {
     "data": {
      "text/plain": [
       "list"
      ]
     },
     "execution_count": 2,
     "metadata": {},
     "output_type": "execute_result"
    }
   ],
   "source": [
    "type(li)"
   ]
  },
  {
   "cell_type": "code",
   "execution_count": 3,
   "id": "b3404edd",
   "metadata": {},
   "outputs": [],
   "source": [
    "li = [1,25,55.4,\"Python\",True]"
   ]
  },
  {
   "cell_type": "code",
   "execution_count": 4,
   "id": "d24ec421",
   "metadata": {},
   "outputs": [
    {
     "data": {
      "text/plain": [
       "[1, 25, 55.4, 'Python', True]"
      ]
     },
     "execution_count": 4,
     "metadata": {},
     "output_type": "execute_result"
    }
   ],
   "source": [
    "li"
   ]
  },
  {
   "cell_type": "code",
   "execution_count": 5,
   "id": "2eac23be",
   "metadata": {},
   "outputs": [
    {
     "data": {
      "text/plain": [
       "1"
      ]
     },
     "execution_count": 5,
     "metadata": {},
     "output_type": "execute_result"
    }
   ],
   "source": [
    "#If you want to access the elements from the list we have a two ways:\n",
    "#                        1.By using Positive Indexing\n",
    "#                        2.By Usiong negative Indexing\n",
    "li[0]"
   ]
  },
  {
   "cell_type": "code",
   "execution_count": 6,
   "id": "cd1dc7b3",
   "metadata": {},
   "outputs": [
    {
     "data": {
      "text/plain": [
       "True"
      ]
     },
     "execution_count": 6,
     "metadata": {},
     "output_type": "execute_result"
    }
   ],
   "source": [
    "li[4]"
   ]
  },
  {
   "cell_type": "code",
   "execution_count": 7,
   "id": "7aa5f7d4",
   "metadata": {},
   "outputs": [
    {
     "data": {
      "text/plain": [
       "True"
      ]
     },
     "execution_count": 7,
     "metadata": {},
     "output_type": "execute_result"
    }
   ],
   "source": [
    "li[-1]"
   ]
  },
  {
   "cell_type": "code",
   "execution_count": 8,
   "id": "6121f7a9",
   "metadata": {},
   "outputs": [
    {
     "data": {
      "text/plain": [
       "'Python'"
      ]
     },
     "execution_count": 8,
     "metadata": {},
     "output_type": "execute_result"
    }
   ],
   "source": [
    "li[-2]"
   ]
  },
  {
   "cell_type": "code",
   "execution_count": 9,
   "id": "f897dadb",
   "metadata": {},
   "outputs": [
    {
     "data": {
      "text/plain": [
       "55.4"
      ]
     },
     "execution_count": 9,
     "metadata": {},
     "output_type": "execute_result"
    }
   ],
   "source": [
    "li[-3]"
   ]
  },
  {
   "cell_type": "code",
   "execution_count": 12,
   "id": "f7b7171d",
   "metadata": {},
   "outputs": [
    {
     "data": {
      "text/plain": [
       "[1, 25, 55.4]"
      ]
     },
     "execution_count": 12,
     "metadata": {},
     "output_type": "execute_result"
    }
   ],
   "source": [
    "#If i want to access the in between given indexing range elements\n",
    "li[0:3]"
   ]
  },
  {
   "cell_type": "code",
   "execution_count": 11,
   "id": "6b012be8",
   "metadata": {},
   "outputs": [
    {
     "data": {
      "text/plain": [
       "[1, 25, 55.4, 'Python', True]"
      ]
     },
     "execution_count": 11,
     "metadata": {},
     "output_type": "execute_result"
    }
   ],
   "source": [
    "li"
   ]
  },
  {
   "cell_type": "code",
   "execution_count": 15,
   "id": "b7379d0b",
   "metadata": {},
   "outputs": [
    {
     "data": {
      "text/plain": [
       "[1, 55.4, True]"
      ]
     },
     "execution_count": 15,
     "metadata": {},
     "output_type": "execute_result"
    }
   ],
   "source": [
    "li[0:5:2]"
   ]
  },
  {
   "cell_type": "code",
   "execution_count": 16,
   "id": "9616bb21",
   "metadata": {},
   "outputs": [
    {
     "data": {
      "text/plain": [
       "5"
      ]
     },
     "execution_count": 16,
     "metadata": {},
     "output_type": "execute_result"
    }
   ],
   "source": [
    "len(li)"
   ]
  },
  {
   "cell_type": "code",
   "execution_count": 18,
   "id": "6077c181",
   "metadata": {},
   "outputs": [
    {
     "name": "stdout",
     "output_type": "stream",
     "text": [
      "['__add__', '__class__', '__class_getitem__', '__contains__', '__delattr__', '__delitem__', '__dir__', '__doc__', '__eq__', '__format__', '__ge__', '__getattribute__', '__getitem__', '__getstate__', '__gt__', '__hash__', '__iadd__', '__imul__', '__init__', '__init_subclass__', '__iter__', '__le__', '__len__', '__lt__', '__mul__', '__ne__', '__new__', '__reduce__', '__reduce_ex__', '__repr__', '__reversed__', '__rmul__', '__setattr__', '__setitem__', '__sizeof__', '__str__', '__subclasshook__', 'append', 'clear', 'copy', 'count', 'extend', 'index', 'insert', 'pop', 'remove', 'reverse', 'sort']\n"
     ]
    }
   ],
   "source": [
    "print(dir(li))"
   ]
  },
  {
   "cell_type": "code",
   "execution_count": 19,
   "id": "2c3619a8",
   "metadata": {},
   "outputs": [],
   "source": [
    "li = []"
   ]
  },
  {
   "cell_type": "code",
   "execution_count": 20,
   "id": "8e3b6529",
   "metadata": {},
   "outputs": [
    {
     "data": {
      "text/plain": [
       "[]"
      ]
     },
     "execution_count": 20,
     "metadata": {},
     "output_type": "execute_result"
    }
   ],
   "source": [
    "li"
   ]
  },
  {
   "cell_type": "code",
   "execution_count": 23,
   "id": "978b8a34",
   "metadata": {},
   "outputs": [],
   "source": [
    "li.append(23)\n",
    "li.append(55.4)"
   ]
  },
  {
   "cell_type": "code",
   "execution_count": 24,
   "id": "daed7de3",
   "metadata": {},
   "outputs": [
    {
     "data": {
      "text/plain": [
       "[23, 23, 55.4]"
      ]
     },
     "execution_count": 24,
     "metadata": {},
     "output_type": "execute_result"
    }
   ],
   "source": [
    "li"
   ]
  },
  {
   "cell_type": "code",
   "execution_count": 25,
   "id": "7dd2f329",
   "metadata": {},
   "outputs": [],
   "source": [
    "li.append(\"Python\")"
   ]
  },
  {
   "cell_type": "code",
   "execution_count": 26,
   "id": "90b6f8ac",
   "metadata": {},
   "outputs": [
    {
     "data": {
      "text/plain": [
       "[23, 23, 55.4, 'Python']"
      ]
     },
     "execution_count": 26,
     "metadata": {},
     "output_type": "execute_result"
    }
   ],
   "source": [
    "li"
   ]
  },
  {
   "cell_type": "code",
   "execution_count": 29,
   "id": "bccb886e",
   "metadata": {},
   "outputs": [
    {
     "data": {
      "text/plain": [
       "2"
      ]
     },
     "execution_count": 29,
     "metadata": {},
     "output_type": "execute_result"
    }
   ],
   "source": [
    "li.index(55.4)"
   ]
  },
  {
   "cell_type": "code",
   "execution_count": 31,
   "id": "1d416ae4",
   "metadata": {},
   "outputs": [],
   "source": [
    "li.insert(0,35)"
   ]
  },
  {
   "cell_type": "code",
   "execution_count": 32,
   "id": "c8231c24",
   "metadata": {},
   "outputs": [
    {
     "data": {
      "text/plain": [
       "[35, 23, 23, 55.4, 'Python']"
      ]
     },
     "execution_count": 32,
     "metadata": {},
     "output_type": "execute_result"
    }
   ],
   "source": [
    "li"
   ]
  },
  {
   "cell_type": "code",
   "execution_count": 33,
   "id": "739c5352",
   "metadata": {},
   "outputs": [],
   "source": [
    "licopy = li.copy()"
   ]
  },
  {
   "cell_type": "code",
   "execution_count": 34,
   "id": "3b0ee3fb",
   "metadata": {},
   "outputs": [
    {
     "data": {
      "text/plain": [
       "[35, 23, 23, 55.4, 'Python']"
      ]
     },
     "execution_count": 34,
     "metadata": {},
     "output_type": "execute_result"
    }
   ],
   "source": [
    "licopy"
   ]
  },
  {
   "cell_type": "code",
   "execution_count": 35,
   "id": "3df05f13",
   "metadata": {},
   "outputs": [],
   "source": [
    "li.clear()"
   ]
  },
  {
   "cell_type": "code",
   "execution_count": 36,
   "id": "1b105d37",
   "metadata": {},
   "outputs": [
    {
     "data": {
      "text/plain": [
       "[]"
      ]
     },
     "execution_count": 36,
     "metadata": {},
     "output_type": "execute_result"
    }
   ],
   "source": [
    "li"
   ]
  },
  {
   "cell_type": "code",
   "execution_count": 42,
   "id": "135de66f",
   "metadata": {},
   "outputs": [
    {
     "data": {
      "text/plain": [
       "2"
      ]
     },
     "execution_count": 42,
     "metadata": {},
     "output_type": "execute_result"
    }
   ],
   "source": [
    "licopy.count(23)"
   ]
  },
  {
   "cell_type": "code",
   "execution_count": 43,
   "id": "a1ddac56",
   "metadata": {},
   "outputs": [
    {
     "data": {
      "text/plain": [
       "[35, 23, 23, 55.4, 'Python']"
      ]
     },
     "execution_count": 43,
     "metadata": {},
     "output_type": "execute_result"
    }
   ],
   "source": [
    "licopy"
   ]
  },
  {
   "cell_type": "code",
   "execution_count": 44,
   "id": "7da43fa5",
   "metadata": {},
   "outputs": [],
   "source": [
    "li = [1,2,3,4,5]"
   ]
  },
  {
   "cell_type": "code",
   "execution_count": 45,
   "id": "29b86c28",
   "metadata": {},
   "outputs": [
    {
     "data": {
      "text/plain": [
       "[1, 2, 3, 4, 5]"
      ]
     },
     "execution_count": 45,
     "metadata": {},
     "output_type": "execute_result"
    }
   ],
   "source": [
    "li"
   ]
  },
  {
   "cell_type": "code",
   "execution_count": 54,
   "id": "9c04ec01",
   "metadata": {},
   "outputs": [],
   "source": [
    "licopy.extend(li)"
   ]
  },
  {
   "cell_type": "code",
   "execution_count": 56,
   "id": "783c0fd0",
   "metadata": {},
   "outputs": [
    {
     "data": {
      "text/plain": [
       "[35,\n",
       " 23,\n",
       " 23,\n",
       " 55.4,\n",
       " 'Python',\n",
       " 1,\n",
       " 2,\n",
       " 3,\n",
       " 4,\n",
       " 5,\n",
       " 35,\n",
       " 23,\n",
       " 23,\n",
       " 55.4,\n",
       " 'Python',\n",
       " 35,\n",
       " 23,\n",
       " 23,\n",
       " 55.4,\n",
       " 'Python',\n",
       " 35,\n",
       " 23,\n",
       " 23,\n",
       " 55.4,\n",
       " 'Python',\n",
       " 1,\n",
       " 2,\n",
       " 3,\n",
       " 4,\n",
       " 5,\n",
       " 35,\n",
       " 23,\n",
       " 23,\n",
       " 55.4,\n",
       " 'Python',\n",
       " 35,\n",
       " 23,\n",
       " 23,\n",
       " 55.4,\n",
       " 'Python',\n",
       " 35,\n",
       " 23,\n",
       " 23,\n",
       " 55.4,\n",
       " 'Python',\n",
       " 1,\n",
       " 2,\n",
       " 3,\n",
       " 4,\n",
       " 5,\n",
       " 35,\n",
       " 23,\n",
       " 23,\n",
       " 55.4,\n",
       " 'Python',\n",
       " 35,\n",
       " 23,\n",
       " 23,\n",
       " 55.4,\n",
       " 'Python',\n",
       " 35,\n",
       " 23,\n",
       " 23,\n",
       " 55.4,\n",
       " 'Python']"
      ]
     },
     "execution_count": 56,
     "metadata": {},
     "output_type": "execute_result"
    }
   ],
   "source": [
    "licopy"
   ]
  },
  {
   "cell_type": "code",
   "execution_count": 59,
   "id": "8841c338",
   "metadata": {},
   "outputs": [],
   "source": [
    "li = [23,85,4,8,9,25,61,789]"
   ]
  },
  {
   "cell_type": "code",
   "execution_count": 60,
   "id": "060bb6e8",
   "metadata": {},
   "outputs": [
    {
     "data": {
      "text/plain": [
       "789"
      ]
     },
     "execution_count": 60,
     "metadata": {},
     "output_type": "execute_result"
    }
   ],
   "source": [
    "li.pop()#If we use the pop it will remove the last element from the list"
   ]
  },
  {
   "cell_type": "code",
   "execution_count": 61,
   "id": "922d2bbf",
   "metadata": {},
   "outputs": [
    {
     "data": {
      "text/plain": [
       "[23, 85, 4, 8, 9, 25, 61]"
      ]
     },
     "execution_count": 61,
     "metadata": {},
     "output_type": "execute_result"
    }
   ],
   "source": [
    "li"
   ]
  },
  {
   "cell_type": "code",
   "execution_count": 64,
   "id": "eedb0e16",
   "metadata": {},
   "outputs": [],
   "source": [
    "li.remove(8)"
   ]
  },
  {
   "cell_type": "code",
   "execution_count": 65,
   "id": "a4921549",
   "metadata": {},
   "outputs": [
    {
     "data": {
      "text/plain": [
       "[23, 85, 4, 9, 25, 61]"
      ]
     },
     "execution_count": 65,
     "metadata": {},
     "output_type": "execute_result"
    }
   ],
   "source": [
    "li"
   ]
  },
  {
   "cell_type": "code",
   "execution_count": 67,
   "id": "063596c9",
   "metadata": {},
   "outputs": [
    {
     "ename": "ValueError",
     "evalue": "list.remove(x): x not in list",
     "output_type": "error",
     "traceback": [
      "\u001b[1;31m---------------------------------------------------------------------------\u001b[0m",
      "\u001b[1;31mValueError\u001b[0m                                Traceback (most recent call last)",
      "Cell \u001b[1;32mIn[67], line 1\u001b[0m\n\u001b[1;32m----> 1\u001b[0m li\u001b[38;5;241m.\u001b[39mremove(\u001b[38;5;241m255\u001b[39m)\n",
      "\u001b[1;31mValueError\u001b[0m: list.remove(x): x not in list"
     ]
    }
   ],
   "source": [
    "li.remove(255)"
   ]
  },
  {
   "cell_type": "code",
   "execution_count": 68,
   "id": "361ba433",
   "metadata": {},
   "outputs": [
    {
     "data": {
      "text/plain": [
       "[23, 85, 4, 9, 25, 61]"
      ]
     },
     "execution_count": 68,
     "metadata": {},
     "output_type": "execute_result"
    }
   ],
   "source": [
    "li"
   ]
  },
  {
   "cell_type": "code",
   "execution_count": 69,
   "id": "fdc9caca",
   "metadata": {},
   "outputs": [],
   "source": [
    "li.sort()"
   ]
  },
  {
   "cell_type": "code",
   "execution_count": 70,
   "id": "bb5287e7",
   "metadata": {},
   "outputs": [
    {
     "data": {
      "text/plain": [
       "[4, 9, 23, 25, 61, 85]"
      ]
     },
     "execution_count": 70,
     "metadata": {},
     "output_type": "execute_result"
    }
   ],
   "source": [
    "li"
   ]
  },
  {
   "cell_type": "code",
   "execution_count": 71,
   "id": "ab5397d1",
   "metadata": {},
   "outputs": [],
   "source": [
    "li.reverse()"
   ]
  },
  {
   "cell_type": "code",
   "execution_count": 72,
   "id": "c558dfb1",
   "metadata": {},
   "outputs": [
    {
     "data": {
      "text/plain": [
       "[85, 61, 25, 23, 9, 4]"
      ]
     },
     "execution_count": 72,
     "metadata": {},
     "output_type": "execute_result"
    }
   ],
   "source": [
    "li"
   ]
  },
  {
   "cell_type": "code",
   "execution_count": 73,
   "id": "84f3b660",
   "metadata": {},
   "outputs": [
    {
     "data": {
      "text/plain": [
       "85"
      ]
     },
     "execution_count": 73,
     "metadata": {},
     "output_type": "execute_result"
    }
   ],
   "source": [
    "max(li)"
   ]
  },
  {
   "cell_type": "code",
   "execution_count": 74,
   "id": "24bb3036",
   "metadata": {},
   "outputs": [
    {
     "data": {
      "text/plain": [
       "4"
      ]
     },
     "execution_count": 74,
     "metadata": {},
     "output_type": "execute_result"
    }
   ],
   "source": [
    "min(li)"
   ]
  },
  {
   "cell_type": "code",
   "execution_count": 76,
   "id": "49f9e260",
   "metadata": {},
   "outputs": [
    {
     "name": "stdout",
     "output_type": "stream",
     "text": [
      "207\n"
     ]
    }
   ],
   "source": [
    "s = 0\n",
    "for i in li:\n",
    "    s = s+i\n",
    "print(s)"
   ]
  },
  {
   "cell_type": "code",
   "execution_count": 77,
   "id": "a7ac71a0",
   "metadata": {},
   "outputs": [
    {
     "data": {
      "text/plain": [
       "207"
      ]
     },
     "execution_count": 77,
     "metadata": {},
     "output_type": "execute_result"
    }
   ],
   "source": [
    "sum(li)"
   ]
  },
  {
   "cell_type": "code",
   "execution_count": 79,
   "id": "973146d8",
   "metadata": {},
   "outputs": [],
   "source": [
    "average = sum(li)//len(li)"
   ]
  },
  {
   "cell_type": "code",
   "execution_count": 80,
   "id": "2038b964",
   "metadata": {},
   "outputs": [
    {
     "data": {
      "text/plain": [
       "34"
      ]
     },
     "execution_count": 80,
     "metadata": {},
     "output_type": "execute_result"
    }
   ],
   "source": [
    "average"
   ]
  },
  {
   "cell_type": "code",
   "execution_count": 83,
   "id": "df90a362",
   "metadata": {},
   "outputs": [],
   "source": [
    "li = [44,7,5,6,88,75,96,45,82,35]\n",
    "#In the above list find the second largest number\n",
    "max(li)\n",
    "li.sort()\n"
   ]
  },
  {
   "cell_type": "code",
   "execution_count": 84,
   "id": "67ec17ff",
   "metadata": {},
   "outputs": [
    {
     "data": {
      "text/plain": [
       "[5, 6, 7, 35, 44, 45, 75, 82, 88, 96]"
      ]
     },
     "execution_count": 84,
     "metadata": {},
     "output_type": "execute_result"
    }
   ],
   "source": [
    "li"
   ]
  },
  {
   "cell_type": "code",
   "execution_count": 85,
   "id": "8a028033",
   "metadata": {},
   "outputs": [
    {
     "data": {
      "text/plain": [
       "88"
      ]
     },
     "execution_count": 85,
     "metadata": {},
     "output_type": "execute_result"
    }
   ],
   "source": [
    "li[-2]"
   ]
  },
  {
   "cell_type": "code",
   "execution_count": 86,
   "id": "c904ce06",
   "metadata": {},
   "outputs": [],
   "source": [
    "li.reverse()"
   ]
  },
  {
   "cell_type": "code",
   "execution_count": 87,
   "id": "b53ef25d",
   "metadata": {},
   "outputs": [
    {
     "data": {
      "text/plain": [
       "[96, 88, 82, 75, 45, 44, 35, 7, 6, 5]"
      ]
     },
     "execution_count": 87,
     "metadata": {},
     "output_type": "execute_result"
    }
   ],
   "source": [
    "li"
   ]
  },
  {
   "cell_type": "code",
   "execution_count": 88,
   "id": "800d58da",
   "metadata": {},
   "outputs": [
    {
     "data": {
      "text/plain": [
       "88"
      ]
     },
     "execution_count": 88,
     "metadata": {},
     "output_type": "execute_result"
    }
   ],
   "source": [
    "li[1]"
   ]
  },
  {
   "cell_type": "code",
   "execution_count": 89,
   "id": "1be15242",
   "metadata": {},
   "outputs": [
    {
     "data": {
      "text/plain": [
       "82"
      ]
     },
     "execution_count": 89,
     "metadata": {},
     "output_type": "execute_result"
    }
   ],
   "source": [
    "li[2]"
   ]
  },
  {
   "cell_type": "code",
   "execution_count": null,
   "id": "5c3541a3",
   "metadata": {},
   "outputs": [],
   "source": []
  }
 ],
 "metadata": {
  "kernelspec": {
   "display_name": "Python 3 (ipykernel)",
   "language": "python",
   "name": "python3"
  },
  "language_info": {
   "codemirror_mode": {
    "name": "ipython",
    "version": 3
   },
   "file_extension": ".py",
   "mimetype": "text/x-python",
   "name": "python",
   "nbconvert_exporter": "python",
   "pygments_lexer": "ipython3",
   "version": "3.11.4"
  }
 },
 "nbformat": 4,
 "nbformat_minor": 5
}
