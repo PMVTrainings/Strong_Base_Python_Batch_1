{
 "cells": [
  {
   "cell_type": "markdown",
   "id": "554cd3bc",
   "metadata": {},
   "source": [
    "### File Handling\n",
    "- If you want to work with files we need one predefined function called 'open()'\n",
    "- Syntax : variable_name = open(filepath/filename,file_mode)\n",
    "- file_mode\n",
    "        - r : Open an existing file for a read operation\n",
    "        - w : Open an existing file for a write operation. If the file already contains some data then it will be overridden.\n",
    "                If the file is not available then it will create a new file.\n",
    "        - a : Open an existing file for append operation. It won't override existing data\n",
    "        - r+ : To read and write data into the file. the preveious data in the file will be overridden\n",
    "        - w+ : To write and read data. It will override existing data.\n",
    "        - a+ : To append and read data from the file. It won't override existing data."
   ]
  },
  {
   "cell_type": "code",
   "execution_count": 5,
   "id": "a767ebb3",
   "metadata": {},
   "outputs": [
    {
     "name": "stdout",
     "output_type": "stream",
     "text": [
      "Hello Every One\n",
      "\n",
      "Welcome to Python Programming\n",
      "\n",
      "Oct to Nov - 2023\n"
     ]
    }
   ],
   "source": [
    "#type1\n",
    "f = open(\"sample.txt\",'r')\n",
    "for i in f:\n",
    "    print(i)"
   ]
  },
  {
   "cell_type": "code",
   "execution_count": 6,
   "id": "c328ce36",
   "metadata": {},
   "outputs": [
    {
     "name": "stdout",
     "output_type": "stream",
     "text": [
      "Hello Every One\n",
      "Welcome to Python Programming\n",
      "Oct to Nov - 2023\n"
     ]
    }
   ],
   "source": [
    "#type2\n",
    "f = open(\"sample.txt\",'r')\n",
    "print(f.read())"
   ]
  },
  {
   "cell_type": "code",
   "execution_count": 1,
   "id": "53ba97ca",
   "metadata": {},
   "outputs": [
    {
     "name": "stdout",
     "output_type": "stream",
     "text": [
      "Hello Every One\n",
      "\n",
      "['Welcome to Python Programming\\n', 'Oct to Nov - 2023']\n",
      "\n"
     ]
    }
   ],
   "source": [
    "#type3\n",
    "with open('sample.txt') as f:\n",
    "    data = f.readline()#It will return single line\n",
    "    data1 = f.readlines()#It will return all lines as a list\n",
    "    data2 = f.read()#It will return the data as it is in file\n",
    "print(data)\n",
    "print(data1)"
   ]
  },
  {
   "cell_type": "code",
   "execution_count": 4,
   "id": "7669486c",
   "metadata": {},
   "outputs": [
    {
     "name": "stdout",
     "output_type": "stream",
     "text": [
      "Hello Ever\n"
     ]
    }
   ],
   "source": [
    "with open('sample.txt') as f:\n",
    "    data2 = f.read(10)#It will return the data as it is in file\n",
    "print(data2)"
   ]
  },
  {
   "cell_type": "markdown",
   "id": "aba84dc7",
   "metadata": {},
   "source": [
    "### Creating a file and writing data in to the file"
   ]
  },
  {
   "cell_type": "code",
   "execution_count": 9,
   "id": "23b83a45",
   "metadata": {},
   "outputs": [],
   "source": [
    "f = open(\"file.txt\",'w')\n",
    "f.write(\"Hello Good Evening\")\n",
    "f.write(\"Welcome to Python workshop\")\n",
    "f.close()"
   ]
  },
  {
   "cell_type": "code",
   "execution_count": 8,
   "id": "f90aa1ee",
   "metadata": {},
   "outputs": [],
   "source": [
    "with open('mastan.txt','w') as f:\n",
    "    f.write(\"Hello Good Evening Mastan\")\n",
    "    f.write(\"Python Programming\")"
   ]
  },
  {
   "cell_type": "code",
   "execution_count": 10,
   "id": "5f3ab893",
   "metadata": {},
   "outputs": [],
   "source": [
    "with open('mastan.txt','w') as f:\n",
    "    f.write(\"Welcome\")"
   ]
  },
  {
   "cell_type": "code",
   "execution_count": 12,
   "id": "e6e45585",
   "metadata": {},
   "outputs": [],
   "source": [
    "f = open(\"file.txt\",'w')\n",
    "f.write('Mastan Python Trainer')\n",
    "f.close()"
   ]
  },
  {
   "cell_type": "code",
   "execution_count": 14,
   "id": "e96ca2bb",
   "metadata": {},
   "outputs": [],
   "source": [
    "with open('mastan.txt','a') as f:\n",
    "    f.write(\" to python programming\")"
   ]
  },
  {
   "cell_type": "code",
   "execution_count": 16,
   "id": "25b07fa4",
   "metadata": {},
   "outputs": [],
   "source": [
    "with open('mastan.txt','a') as f:\n",
    "    f.write(\"\\nThe Workshop is scheduled at every day 8 PM \")"
   ]
  },
  {
   "cell_type": "code",
   "execution_count": null,
   "id": "2f24be9b",
   "metadata": {},
   "outputs": [],
   "source": []
  }
 ],
 "metadata": {
  "kernelspec": {
   "display_name": "Python 3 (ipykernel)",
   "language": "python",
   "name": "python3"
  },
  "language_info": {
   "codemirror_mode": {
    "name": "ipython",
    "version": 3
   },
   "file_extension": ".py",
   "mimetype": "text/x-python",
   "name": "python",
   "nbconvert_exporter": "python",
   "pygments_lexer": "ipython3",
   "version": "3.9.13"
  }
 },
 "nbformat": 4,
 "nbformat_minor": 5
}
