{
 "cells": [
  {
   "cell_type": "markdown",
   "id": "b936e46a",
   "metadata": {},
   "source": [
    "## Python Basics"
   ]
  },
  {
   "cell_type": "code",
   "execution_count": 3,
   "id": "4ffefd9c",
   "metadata": {},
   "outputs": [
    {
     "name": "stdout",
     "output_type": "stream",
     "text": [
      "Hello World\n",
      "Welcome to python programming workshop\n"
     ]
    }
   ],
   "source": [
    "#Print Statement\n",
    "print(\"Hello World\")\n",
    "print('Welcome to python programming workshop')"
   ]
  },
  {
   "cell_type": "markdown",
   "id": "622c3cd5",
   "metadata": {},
   "source": [
    "### Varibles in Python"
   ]
  },
  {
   "cell_type": "code",
   "execution_count": 16,
   "id": "71ebe105",
   "metadata": {},
   "outputs": [
    {
     "name": "stdout",
     "output_type": "stream",
     "text": [
      "10\n",
      "<class 'int'>\n",
      "50\n",
      "<class 'int'>\n",
      "45.23\n",
      "<class 'float'>\n",
      "Python\n",
      "<class 'str'>\n",
      "True\n",
      "<class 'bool'>\n"
     ]
    }
   ],
   "source": [
    "# Syntax: varible_name = value\n",
    "a = 10\n",
    "b = 50\n",
    "s = \"Python\"\n",
    "c = 45.23\n",
    "d = True\n",
    "#If you want to know variable data type we have one predifined method 'type()'\n",
    "print(a)\n",
    "print(type(a))\n",
    "print(b)\n",
    "print(type(b))\n",
    "print(c)\n",
    "print(type(c))\n",
    "print(s)\n",
    "print(type(s))\n",
    "print(d)\n",
    "print(type(d))\n"
   ]
  },
  {
   "cell_type": "code",
   "execution_count": 19,
   "id": "a5c1677c",
   "metadata": {},
   "outputs": [
    {
     "name": "stdout",
     "output_type": "stream",
     "text": [
      "80\n",
      "80\n",
      "80\n"
     ]
    }
   ],
   "source": [
    "a = b = c = 80\n",
    "print(a)\n",
    "print(b)\n",
    "print(c)"
   ]
  },
  {
   "cell_type": "code",
   "execution_count": 22,
   "id": "4b2d480f",
   "metadata": {},
   "outputs": [
    {
     "name": "stdout",
     "output_type": "stream",
     "text": [
      "20\n",
      "43.25\n",
      "Python\n"
     ]
    }
   ],
   "source": [
    "a,b,c = 20,43.25,\"Python\"\n",
    "print(a)\n",
    "print(b)\n",
    "print(c)"
   ]
  },
  {
   "cell_type": "code",
   "execution_count": 26,
   "id": "7fe1443b",
   "metadata": {},
   "outputs": [
    {
     "name": "stdout",
     "output_type": "stream",
     "text": [
      "1141198711376\n",
      "1141198712016\n"
     ]
    }
   ],
   "source": [
    "#To know the address of varible we have predefined method called 'id()'\n",
    "a = 10\n",
    "b = 30\n",
    "print(id(a))\n",
    "print(id(b))"
   ]
  },
  {
   "cell_type": "markdown",
   "id": "dbe7cfb4",
   "metadata": {},
   "source": [
    "### Opeartors in python"
   ]
  },
  {
   "cell_type": "markdown",
   "id": "f90cfcbb",
   "metadata": {},
   "source": [
    "- Arithmetic operators(+,-,*,/,%,**,//)\n",
    "- Assaignment Opeartors(=,+=,-=,*=,/=,**=)\n",
    "- Comparison Operators(<,<=,>,>=,!=,==)\n",
    "- Logical Operators(and,or,not)\n",
    "- Identity Opearators(is,is not)\n",
    "- Membership Opearators(in,not in)\n",
    "- Bitwise Operators(&,|,^,~,<<,>>)"
   ]
  },
  {
   "cell_type": "code",
   "execution_count": 28,
   "id": "ca7e185e",
   "metadata": {},
   "outputs": [
    {
     "name": "stdout",
     "output_type": "stream",
     "text": [
      "15\n",
      "5\n",
      "50\n",
      "2.0\n",
      "0\n",
      "100000\n",
      "2\n"
     ]
    }
   ],
   "source": [
    "# Arithmetic operators(+,-,*,/,%,**,//)\n",
    "a = 10\n",
    "b = 5\n",
    "print(a+b)#Addition\n",
    "print(a-b)\n",
    "print(a*b)\n",
    "print(a/b)\n",
    "print(a%b)\n",
    "print(a**b)\n",
    "print(a//b)\n"
   ]
  },
  {
   "cell_type": "code",
   "execution_count": 36,
   "id": "10fdff7d",
   "metadata": {},
   "outputs": [
    {
     "name": "stdout",
     "output_type": "stream",
     "text": [
      "False\n",
      "11\n",
      "10\n",
      "20\n"
     ]
    }
   ],
   "source": [
    "# Assaignment Opeartors(=,+=,-=,*=,/=,**=)\n",
    "a = 10\n",
    "b = 4\n",
    "print(a==b)\n",
    "\n",
    "a+=1#a = a+1\n",
    "print(a)\n",
    "#a = a-1\n",
    "a-=1\n",
    "print(a)\n",
    "a*=2#a = a * 20\n",
    "print(a)\n"
   ]
  },
  {
   "cell_type": "code",
   "execution_count": 48,
   "id": "3fa04dc4",
   "metadata": {},
   "outputs": [
    {
     "name": "stdout",
     "output_type": "stream",
     "text": [
      "True\n",
      "False\n",
      "1141198711376\n",
      "1141198712656\n",
      "True\n"
     ]
    }
   ],
   "source": [
    "# Comparison Operators(<,<=,>,>=,!=,==)\n",
    "a = 10\n",
    "b = 50\n",
    "print(a<b)\n",
    "print(a<5 and b>6)\n",
    "print(id(a))\n",
    "print(id(b))\n",
    "print(a is not b)"
   ]
  },
  {
   "cell_type": "code",
   "execution_count": 43,
   "id": "f01ed820",
   "metadata": {},
   "outputs": [
    {
     "name": "stdout",
     "output_type": "stream",
     "text": [
      "Enter a Value 20\n",
      "20\n"
     ]
    }
   ],
   "source": [
    "#If you want to take the input from the user we have predefined method 'input()'\n",
    "a = input(\"Enter a Value \")\n",
    "print(a)"
   ]
  },
  {
   "cell_type": "code",
   "execution_count": 50,
   "id": "800f633d",
   "metadata": {},
   "outputs": [
    {
     "name": "stdout",
     "output_type": "stream",
     "text": [
      "True\n"
     ]
    }
   ],
   "source": [
    "#Task Just take two values from the user and then perform the \n",
    "#  arithmetic operations \n",
    "s = \"welcome\"\n",
    "print('e' in s)"
   ]
  },
  {
   "cell_type": "code",
   "execution_count": 51,
   "id": "1aac8d8b",
   "metadata": {},
   "outputs": [
    {
     "ename": "SyntaxError",
     "evalue": "invalid syntax (161346541.py, line 1)",
     "output_type": "error",
     "traceback": [
      "\u001b[1;36m  File \u001b[1;32m\"C:\\Users\\Mastan Valli\\AppData\\Local\\Temp\\ipykernel_1180\\161346541.py\"\u001b[1;36m, line \u001b[1;32m1\u001b[0m\n\u001b[1;33m    a integer(input(\"First number\"))\u001b[0m\n\u001b[1;37m      ^\u001b[0m\n\u001b[1;31mSyntaxError\u001b[0m\u001b[1;31m:\u001b[0m invalid syntax\n"
     ]
    }
   ],
   "source": [
    "a integer(input(\"First number\"))\n",
    "b=10\n",
    "for i in range(a:b):\n",
    "PRINT(a*b)\n",
    "if (a>b) then\n",
    "print(a)"
   ]
  },
  {
   "cell_type": "code",
   "execution_count": null,
   "id": "3c5e3339",
   "metadata": {},
   "outputs": [],
   "source": []
  }
 ],
 "metadata": {
  "kernelspec": {
   "display_name": "Python 3 (ipykernel)",
   "language": "python",
   "name": "python3"
  },
  "language_info": {
   "codemirror_mode": {
    "name": "ipython",
    "version": 3
   },
   "file_extension": ".py",
   "mimetype": "text/x-python",
   "name": "python",
   "nbconvert_exporter": "python",
   "pygments_lexer": "ipython3",
   "version": "3.9.13"
  }
 },
 "nbformat": 4,
 "nbformat_minor": 5
}
