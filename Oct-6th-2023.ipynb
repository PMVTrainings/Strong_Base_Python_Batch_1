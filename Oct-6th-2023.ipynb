{
 "cells": [
  {
   "cell_type": "markdown",
   "id": "838dcfa3",
   "metadata": {},
   "source": [
    "# Heading 1\n",
    "## Heading 2\n",
    "### Heading 3\n",
    "#### heading 4\n",
    "##### Heading 5\n",
    "###### Heading 6"
   ]
  },
  {
   "cell_type": "markdown",
   "id": "a8be7ed2",
   "metadata": {},
   "source": [
    "**bold Text**\n",
    "*Italic*\n",
    "***Bold and Italic***"
   ]
  },
  {
   "cell_type": "markdown",
   "id": "adeab628",
   "metadata": {},
   "source": [
    "- List1\n",
    "- List2\n",
    "- List3"
   ]
  },
  {
   "cell_type": "markdown",
   "id": "401d97b1",
   "metadata": {},
   "source": []
  },
  {
   "cell_type": "code",
   "execution_count": null,
   "id": "903f1932",
   "metadata": {},
   "outputs": [],
   "source": []
  }
 ],
 "metadata": {
  "kernelspec": {
   "display_name": "Python 3 (ipykernel)",
   "language": "python",
   "name": "python3"
  },
  "language_info": {
   "codemirror_mode": {
    "name": "ipython",
    "version": 3
   },
   "file_extension": ".py",
   "mimetype": "text/x-python",
   "name": "python",
   "nbconvert_exporter": "python",
   "pygments_lexer": "ipython3",
   "version": "3.9.13"
  }
 },
 "nbformat": 4,
 "nbformat_minor": 5
}
