{
 "cells": [
  {
   "cell_type": "code",
   "execution_count": 1,
   "id": "2c35ec2b",
   "metadata": {},
   "outputs": [],
   "source": [
    "contacts = {}"
   ]
  },
  {
   "cell_type": "code",
   "execution_count": 35,
   "id": "52551b55",
   "metadata": {},
   "outputs": [
    {
     "name": "stdout",
     "output_type": "stream",
     "text": [
      "Enter Emp ID 122\n",
      "Enter Your Details name,mobileno,email with space srinu 1234578960 srinu@gmail.com\n",
      "{'121': ['Mastan', '6301067787', 'mastan@gmail.com'], '122': ['srinu', '1234578960', 'srinu@gmail.com']}\n"
     ]
    }
   ],
   "source": [
    "#Adding Contacts\n",
    "def addContact(empid,empDetails):\n",
    "    contacts[empid] = empDetails\n",
    "empid = input(\"Enter Emp ID \")\n",
    "empDetails = input(\"Enter Your Details name,mobileno,email with space \").split(\" \")\n",
    "addContact(empid,empDetails)\n",
    "print(contacts)"
   ]
  },
  {
   "cell_type": "code",
   "execution_count": 34,
   "id": "e3868d4c",
   "metadata": {},
   "outputs": [
    {
     "data": {
      "text/plain": [
       "{'121': ['Mastan', '6301067787', 'mastan@gmail.com']}"
      ]
     },
     "execution_count": 34,
     "metadata": {},
     "output_type": "execute_result"
    }
   ],
   "source": [
    "#1.Create Function for View All Contacts\n",
    "def viewContacts():\n",
    "    return contacts\n",
    "viewContacts()"
   ]
  },
  {
   "cell_type": "code",
   "execution_count": 25,
   "id": "cbc5d890",
   "metadata": {},
   "outputs": [
    {
     "name": "stdout",
     "output_type": "stream",
     "text": [
      "Enter Emp ID to fetch the details 540\n",
      "540  Not Found \n"
     ]
    }
   ],
   "source": [
    "#2.Create a function for to search the contact details through empid\n",
    "     # Empi ID : 121\n",
    "    # Name : Mastan\n",
    "    #Mobile : 6301067787\n",
    "    #Email : pmvtrainings@gmail.com\n",
    "lenth = 2\n",
    "\n",
    "def searchContact(empid):\n",
    "    c = 0\n",
    "    for key in contacts.keys():\n",
    "            if empid == key:\n",
    "                li = contacts.get(empid)\n",
    "                print(\"Emp Id :\",eid)\n",
    "                print(\"Name :\",li[0])\n",
    "                print(\"Mobile No :\",li[1])\n",
    "                print(\"Email :\",li[2])\n",
    "            else:\n",
    "                c = c+1\n",
    "    if len(contacts) == c:\n",
    "        print(empid,\" Not Found \")\n",
    "                \n",
    "    \n",
    "eid = input(\"Enter Emp ID to fetch the details \")\n",
    "searchContact(eid)"
   ]
  },
  {
   "cell_type": "code",
   "execution_count": 36,
   "id": "c8c4c7b5",
   "metadata": {},
   "outputs": [
    {
     "name": "stdout",
     "output_type": "stream",
     "text": [
      "Enter the emp id to delete the contact 121\n",
      "121  deleted succuessfully..\n"
     ]
    }
   ],
   "source": [
    "#3.Create a Function to delete particular contact through empid\n",
    "def deleteContact(empid):\n",
    "    c = 0\n",
    "    for key in contacts.keys():\n",
    "        if empid == key:\n",
    "            contacts.pop(empid)\n",
    "            print(empid,\" deleted succuessfully..\")\n",
    "            return\n",
    "        else:\n",
    "            c = c+1\n",
    "    if len(contacts) == c:\n",
    "        print(empid,\" Not Found\")\n",
    "eid = input(\"Enter the emp id to delete the contact \")\n",
    "deleteContact(eid)\n"
   ]
  },
  {
   "cell_type": "code",
   "execution_count": 37,
   "id": "3b3d850c",
   "metadata": {},
   "outputs": [
    {
     "data": {
      "text/plain": [
       "{'122': ['srinu', '1234578960', 'srinu@gmail.com']}"
      ]
     },
     "execution_count": 37,
     "metadata": {},
     "output_type": "execute_result"
    }
   ],
   "source": [
    "contacts"
   ]
  },
  {
   "cell_type": "code",
   "execution_count": 38,
   "id": "415ba887",
   "metadata": {},
   "outputs": [],
   "source": [
    "#4.Create a Function to update the details for particular contact through empid"
   ]
  },
  {
   "cell_type": "code",
   "execution_count": null,
   "id": "4d63e7f0",
   "metadata": {},
   "outputs": [],
   "source": []
  }
 ],
 "metadata": {
  "kernelspec": {
   "display_name": "Python 3 (ipykernel)",
   "language": "python",
   "name": "python3"
  },
  "language_info": {
   "codemirror_mode": {
    "name": "ipython",
    "version": 3
   },
   "file_extension": ".py",
   "mimetype": "text/x-python",
   "name": "python",
   "nbconvert_exporter": "python",
   "pygments_lexer": "ipython3",
   "version": "3.11.4"
  }
 },
 "nbformat": 4,
 "nbformat_minor": 5
}
