{
 "cells": [
  {
   "cell_type": "code",
   "execution_count": 16,
   "id": "33ea344b",
   "metadata": {},
   "outputs": [
    {
     "name": "stdout",
     "output_type": "stream",
     "text": [
      "madam  is palindrome\n"
     ]
    }
   ],
   "source": [
    "#1.Create a Function to check the given string is palindrome or not\n",
    "#madam,malayalam\n",
    "def isPalindrome(s):\n",
    "    temp = s\n",
    "    revs = s[::-1]\n",
    "    if(temp == revs):\n",
    "        print(s,\" is palindrome\")\n",
    "    else:\n",
    "        print(s,\" is Not a palindrome\")\n",
    "a = \"madam\"\n",
    "isPalindrome(a)"
   ]
  },
  {
   "cell_type": "code",
   "execution_count": 13,
   "id": "d6ab14c3",
   "metadata": {},
   "outputs": [
    {
     "name": "stdout",
     "output_type": "stream",
     "text": [
      "malayalam  is palindrome\n"
     ]
    }
   ],
   "source": [
    "isPalindrome(\"malayalam\")"
   ]
  },
  {
   "cell_type": "code",
   "execution_count": 17,
   "id": "ec454fa6",
   "metadata": {},
   "outputs": [
    {
     "name": "stdout",
     "output_type": "stream",
     "text": [
      "python  is Not a palindrome\n"
     ]
    }
   ],
   "source": [
    "isPalindrome(\"python\")"
   ]
  },
  {
   "cell_type": "code",
   "execution_count": 22,
   "id": "709fca27",
   "metadata": {},
   "outputs": [
    {
     "name": "stdout",
     "output_type": "stream",
     "text": [
      "6  not a primenumber\n"
     ]
    }
   ],
   "source": [
    "#2.Create a Function to checck given number is prime or not\n",
    "n = 6\n",
    "fc = 0\n",
    "for i in range(1,n+1):\n",
    "    if n%i == 0:\n",
    "        fc = fc+1\n",
    "if fc == 2:\n",
    "    print(n,\" is a primenumber\")\n",
    "else:\n",
    "    print(n,\" not a primenumber\")"
   ]
  },
  {
   "cell_type": "code",
   "execution_count": 5,
   "id": "812b4aad",
   "metadata": {},
   "outputs": [
    {
     "name": "stdout",
     "output_type": "stream",
     "text": [
      "5\n"
     ]
    },
    {
     "data": {
      "text/plain": [
       "True"
      ]
     },
     "execution_count": 5,
     "metadata": {},
     "output_type": "execute_result"
    }
   ],
   "source": [
    "def isPrime(n):\n",
    "    fc = 0\n",
    "    for i in range(1,n+1):\n",
    "        if n%i == 0:\n",
    "            fc = fc + 1\n",
    "    if fc == 2:\n",
    "        return True\n",
    "    else:\n",
    "        return False\n",
    "n = int(input())\n",
    "isPrime(n)"
   ]
  },
  {
   "cell_type": "code",
   "execution_count": 6,
   "id": "36f70832",
   "metadata": {},
   "outputs": [
    {
     "name": "stdout",
     "output_type": "stream",
     "text": [
      "11 13 17 19 23 29 31 37 41 43 47 53 59 61 67 71 73 79 83 89 97 "
     ]
    }
   ],
   "source": [
    "for i in range(10,100):\n",
    "    if isPrime(i):\n",
    "        print(i,end = \" \")"
   ]
  },
  {
   "cell_type": "code",
   "execution_count": 7,
   "id": "5715bfbb",
   "metadata": {},
   "outputs": [],
   "source": [
    "#5.Create a Function to calculate the average of 1 to 100 numbers\n",
    "# average = 1+2+...100\n",
    "#            --------------\n",
    "#            total number count elements"
   ]
  },
  {
   "cell_type": "code",
   "execution_count": 12,
   "id": "ef122a21",
   "metadata": {},
   "outputs": [
    {
     "name": "stdout",
     "output_type": "stream",
     "text": [
      "10\n",
      "100\n",
      "the average of given range numbers  55\n"
     ]
    }
   ],
   "source": [
    "def theAverageofGivenNumbers(a,b):\n",
    "    totalsum = 0\n",
    "    count = 0\n",
    "    for i in range(a,b+1):\n",
    "        totalsum = totalsum + i\n",
    "        count = count + 1\n",
    "    average = totalsum//count\n",
    "    print(\"the average of given range numbers \",average)\n",
    "a = int(input())\n",
    "b = int(input())\n",
    "theAverageofGivenNumbers(a,b)    "
   ]
  },
  {
   "cell_type": "code",
   "execution_count": 13,
   "id": "442e9206",
   "metadata": {},
   "outputs": [],
   "source": [
    "#8. Take a String which is \"problem solving using python\"\n",
    "#       1.Find the length of the String\n",
    "#       2.Change the String of lower case\n",
    "#       3.print the String in reverse order\n",
    "#       4.Print the string in without spaces\n",
    "#       5.Find how many times 's' is reapeated in the given string"
   ]
  },
  {
   "cell_type": "code",
   "execution_count": 14,
   "id": "f6282a82",
   "metadata": {},
   "outputs": [],
   "source": [
    "s = \"problem solving using python\" "
   ]
  },
  {
   "cell_type": "code",
   "execution_count": 15,
   "id": "8374f980",
   "metadata": {},
   "outputs": [
    {
     "data": {
      "text/plain": [
       "28"
      ]
     },
     "execution_count": 15,
     "metadata": {},
     "output_type": "execute_result"
    }
   ],
   "source": [
    "#1.Find the length of the String\n",
    "len(s)"
   ]
  },
  {
   "cell_type": "code",
   "execution_count": 16,
   "id": "94b638e3",
   "metadata": {},
   "outputs": [
    {
     "data": {
      "text/plain": [
       "'PROBLEM SOLVING USING PYTHON'"
      ]
     },
     "execution_count": 16,
     "metadata": {},
     "output_type": "execute_result"
    }
   ],
   "source": [
    "# 2.Change the String of lower case\n",
    "s.upper()"
   ]
  },
  {
   "cell_type": "code",
   "execution_count": 17,
   "id": "756cb287",
   "metadata": {},
   "outputs": [
    {
     "data": {
      "text/plain": [
       "'problem solving using python'"
      ]
     },
     "execution_count": 17,
     "metadata": {},
     "output_type": "execute_result"
    }
   ],
   "source": [
    "s.lower()"
   ]
  },
  {
   "cell_type": "code",
   "execution_count": 18,
   "id": "7f73f0f8",
   "metadata": {},
   "outputs": [
    {
     "data": {
      "text/plain": [
       "'nohtyp gnisu gnivlos melborp'"
      ]
     },
     "execution_count": 18,
     "metadata": {},
     "output_type": "execute_result"
    }
   ],
   "source": [
    " #3.print the String in reverse order\n",
    "s[::-1]"
   ]
  },
  {
   "cell_type": "code",
   "execution_count": 22,
   "id": "839d7d2c",
   "metadata": {},
   "outputs": [
    {
     "data": {
      "text/plain": [
       "'problem solving using python'"
      ]
     },
     "execution_count": 22,
     "metadata": {},
     "output_type": "execute_result"
    }
   ],
   "source": [
    "#4.Print the string in without spaces\n",
    "s.strip()"
   ]
  },
  {
   "cell_type": "code",
   "execution_count": 23,
   "id": "caccaab6",
   "metadata": {},
   "outputs": [
    {
     "data": {
      "text/plain": [
       "['problem', 'solving', 'using', 'python']"
      ]
     },
     "execution_count": 23,
     "metadata": {},
     "output_type": "execute_result"
    }
   ],
   "source": [
    "s.split()"
   ]
  },
  {
   "cell_type": "code",
   "execution_count": 24,
   "id": "447f16e8",
   "metadata": {},
   "outputs": [
    {
     "data": {
      "text/plain": [
       "'problemsolvingusingpython'"
      ]
     },
     "execution_count": 24,
     "metadata": {},
     "output_type": "execute_result"
    }
   ],
   "source": [
    "s.replace(\" \", \"\")"
   ]
  },
  {
   "cell_type": "code",
   "execution_count": 25,
   "id": "167f6675",
   "metadata": {},
   "outputs": [
    {
     "data": {
      "text/plain": [
       "2"
      ]
     },
     "execution_count": 25,
     "metadata": {},
     "output_type": "execute_result"
    }
   ],
   "source": [
    "#  5.Find how many times 's' is reapeated in the given string\n",
    "s.count('s')"
   ]
  },
  {
   "cell_type": "code",
   "execution_count": null,
   "id": "569abe58",
   "metadata": {},
   "outputs": [],
   "source": []
  }
 ],
 "metadata": {
  "kernelspec": {
   "display_name": "Python 3 (ipykernel)",
   "language": "python",
   "name": "python3"
  },
  "language_info": {
   "codemirror_mode": {
    "name": "ipython",
    "version": 3
   },
   "file_extension": ".py",
   "mimetype": "text/x-python",
   "name": "python",
   "nbconvert_exporter": "python",
   "pygments_lexer": "ipython3",
   "version": "3.9.13"
  }
 },
 "nbformat": 4,
 "nbformat_minor": 5
}
