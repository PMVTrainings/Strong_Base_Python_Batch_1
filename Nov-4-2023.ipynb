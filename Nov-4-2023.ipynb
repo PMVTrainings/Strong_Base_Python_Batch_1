{
 "cells": [
  {
   "cell_type": "markdown",
   "id": "016587d0",
   "metadata": {},
   "source": [
    "### Contact Application\n",
    "- AddContact\n",
    "- ViewAll Contacts\n",
    "- serach for Particular Contact\n",
    "- Update the particular contact\n",
    "- Delete the paticular contact"
   ]
  },
  {
   "cell_type": "code",
   "execution_count": 7,
   "id": "41947795",
   "metadata": {},
   "outputs": [],
   "source": [
    "filepath = 'contacts.csv'"
   ]
  },
  {
   "cell_type": "code",
   "execution_count": 8,
   "id": "d2ad0bc9",
   "metadata": {},
   "outputs": [
    {
     "name": "stdout",
     "output_type": "stream",
     "text": [
      "Enter name,mobileno,email with sapce rajitha 1234567890 rajitha@gmail.com\n",
      "rajitha  saved successfully...\n"
     ]
    }
   ],
   "source": [
    "#AddContact\n",
    "def addContact(name,mobile,email):\n",
    "    with open(filepath,'a') as f:\n",
    "        f.write(name+\",\")\n",
    "        f.write(mobile+\",\")\n",
    "        f.write(email+\"\\n\")\n",
    "        print(name,\" saved successfully...\")\n",
    "cd = input(\"Enter name,mobileno,email with sapce \").split(\" \")\n",
    "n = cd[0]\n",
    "m = cd[1]\n",
    "e = cd[2]\n",
    "addContact(n,m,e)"
   ]
  },
  {
   "cell_type": "code",
   "execution_count": 28,
   "id": "bebbfeef",
   "metadata": {},
   "outputs": [
    {
     "name": "stdout",
     "output_type": "stream",
     "text": [
      "Enter contact name rajitha\n",
      "name:rajitha \n",
      " mobileno:1234567890 \n",
      " email:rajitha@gmail.com\n",
      "\n"
     ]
    }
   ],
   "source": [
    "#serach for Particular Contact\n",
    "def serachforContact(name):\n",
    "    with open(filepath,'r') as f:\n",
    "        data = f.readlines()\n",
    "        for line in data:\n",
    "            li = line.split(',')\n",
    "            if li[0] == name:\n",
    "                print(\"name:%s \\n mobileno:%s \\n email:%s\" %(li[0],li[1],li[2]))\n",
    "                return\n",
    "        else:\n",
    "            print(name,\" conatct not available \")\n",
    "\n",
    "n = input(\"Enter contact name \")\n",
    "serachforContact(n)\n"
   ]
  },
  {
   "cell_type": "code",
   "execution_count": null,
   "id": "e5fd7530",
   "metadata": {},
   "outputs": [],
   "source": [
    "\n",
    "    "
   ]
  },
  {
   "cell_type": "code",
   "execution_count": null,
   "id": "4fc560d4",
   "metadata": {},
   "outputs": [],
   "source": []
  }
 ],
 "metadata": {
  "kernelspec": {
   "display_name": "Python 3 (ipykernel)",
   "language": "python",
   "name": "python3"
  },
  "language_info": {
   "codemirror_mode": {
    "name": "ipython",
    "version": 3
   },
   "file_extension": ".py",
   "mimetype": "text/x-python",
   "name": "python",
   "nbconvert_exporter": "python",
   "pygments_lexer": "ipython3",
   "version": "3.11.4"
  }
 },
 "nbformat": 4,
 "nbformat_minor": 5
}
