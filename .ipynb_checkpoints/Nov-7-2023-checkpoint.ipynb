{
 "cells": [
  {
   "cell_type": "markdown",
   "id": "53429740",
   "metadata": {},
   "source": [
    "### Regular Expressions"
   ]
  },
  {
   "cell_type": "code",
   "execution_count": 1,
   "id": "5a634720",
   "metadata": {},
   "outputs": [],
   "source": [
    "import re"
   ]
  },
  {
   "cell_type": "code",
   "execution_count": 2,
   "id": "c4d468b7",
   "metadata": {},
   "outputs": [
    {
     "name": "stdout",
     "output_type": "stream",
     "text": [
      "['A', 'ASCII', 'DEBUG', 'DOTALL', 'I', 'IGNORECASE', 'L', 'LOCALE', 'M', 'MULTILINE', 'Match', 'Pattern', 'RegexFlag', 'S', 'Scanner', 'T', 'TEMPLATE', 'U', 'UNICODE', 'VERBOSE', 'X', '_MAXCACHE', '__all__', '__builtins__', '__cached__', '__doc__', '__file__', '__loader__', '__name__', '__package__', '__spec__', '__version__', '_cache', '_compile', '_compile_repl', '_expand', '_locale', '_pickle', '_special_chars_map', '_subx', 'compile', 'copyreg', 'enum', 'error', 'escape', 'findall', 'finditer', 'fullmatch', 'functools', 'match', 'purge', 'search', 'split', 'sre_compile', 'sre_parse', 'sub', 'subn', 'template']\n"
     ]
    }
   ],
   "source": [
    "print(dir(re))"
   ]
  },
  {
   "cell_type": "code",
   "execution_count": 4,
   "id": "615bad1b",
   "metadata": {},
   "outputs": [
    {
     "name": "stdout",
     "output_type": "stream",
     "text": [
      "startIndex:0,endIndex:2,matchedString:ab\n",
      "startIndex:4,endIndex:6,matchedString:ab\n",
      "startIndex:9,endIndex:11,matchedString:ab\n"
     ]
    }
   ],
   "source": [
    "#ab  - 'abaaabaaaab'\n",
    "matcher = re.finditer('ab','abaaabaaaab')\n",
    "for match in matcher:\n",
    "    print('startIndex:{},endIndex:{},matchedString:{}'.format(match.start(),match.end(),match.group()))"
   ]
  },
  {
   "cell_type": "code",
   "execution_count": 10,
   "id": "cb168ca0",
   "metadata": {},
   "outputs": [
    {
     "name": "stdout",
     "output_type": "stream",
     "text": [
      "Enter Mobileno +916301067787\n",
      "<re.Match object; span=(0, 13), match='+916301067787'>\n"
     ]
    }
   ],
   "source": [
    "mobile = input(\"Enter Mobileno \")\n",
    "m = re.match('^[+][9][1][6-9]{1}[0-9]{9}',mobile)\n",
    "if m!=None:\n",
    "    print('The given mobile number is valid')\n",
    "else:\n",
    "    print('In valid MobileNo')"
   ]
  },
  {
   "cell_type": "code",
   "execution_count": null,
   "id": "2a2d160c",
   "metadata": {},
   "outputs": [],
   "source": []
  }
 ],
 "metadata": {
  "kernelspec": {
   "display_name": "Python 3 (ipykernel)",
   "language": "python",
   "name": "python3"
  },
  "language_info": {
   "codemirror_mode": {
    "name": "ipython",
    "version": 3
   },
   "file_extension": ".py",
   "mimetype": "text/x-python",
   "name": "python",
   "nbconvert_exporter": "python",
   "pygments_lexer": "ipython3",
   "version": "3.9.13"
  }
 },
 "nbformat": 4,
 "nbformat_minor": 5
}
