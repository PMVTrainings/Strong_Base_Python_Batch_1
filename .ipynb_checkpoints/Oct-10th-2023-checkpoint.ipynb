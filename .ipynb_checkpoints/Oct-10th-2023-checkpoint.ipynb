{
 "cells": [
  {
   "cell_type": "markdown",
   "id": "8612122c",
   "metadata": {},
   "source": [
    "### Iterations\n",
    "- For loop\n",
    "- While"
   ]
  },
  {
   "cell_type": "code",
   "execution_count": 2,
   "id": "70510c03",
   "metadata": {},
   "outputs": [
    {
     "name": "stdout",
     "output_type": "stream",
     "text": [
      "0 1 2 3 4 5 6 7 8 9 "
     ]
    }
   ],
   "source": [
    "#for loop\n",
    "#Sysntax: for iteration_variable in range(lowerbound,upperbound):\n",
    "#                                statements\n",
    "#print n natural numbers\n",
    "n = 10\n",
    "for i in range(n):#lb = 0, ub = n-1\n",
    "    print(i,end = \" \")"
   ]
  },
  {
   "cell_type": "code",
   "execution_count": 4,
   "id": "9d627649",
   "metadata": {},
   "outputs": [
    {
     "name": "stdout",
     "output_type": "stream",
     "text": [
      "20 21 22 23 24 25 26 27 28 29 30 31 32 33 34 35 36 37 38 39 40 "
     ]
    }
   ],
   "source": [
    "for i in range(20,41):\n",
    "    print(i,end=\" \")"
   ]
  },
  {
   "cell_type": "code",
   "execution_count": 10,
   "id": "f3b5cbe5",
   "metadata": {},
   "outputs": [
    {
     "name": "stdout",
     "output_type": "stream",
     "text": [
      "20 22 24 26 28 30 32 34 36 38 40 42 44 46 48 50 "
     ]
    }
   ],
   "source": [
    "#Write a python program to print even numbers in between range of 20 to 50 (lb,ub both are inclusive)\n",
    "for i in range(20,51,2):\n",
    "    print(i,end = \" \")"
   ]
  },
  {
   "cell_type": "code",
   "execution_count": 14,
   "id": "ab1d8822",
   "metadata": {},
   "outputs": [
    {
     "name": "stdout",
     "output_type": "stream",
     "text": [
      "Enter a number 20\n",
      "1 2 4 5 10 20 "
     ]
    }
   ],
   "source": [
    "#Write a python program to print factors of given number N\n",
    "n = int(input(\"Enter a number \"))\n",
    "for i in range(1,n+1):\n",
    "    if n%i == 0:\n",
    "        print(i,end=\" \")\n",
    "    \n"
   ]
  },
  {
   "cell_type": "code",
   "execution_count": 16,
   "id": "137ed782",
   "metadata": {},
   "outputs": [
    {
     "name": "stdout",
     "output_type": "stream",
     "text": [
      "24 36 72 "
     ]
    }
   ],
   "source": [
    "#writre a python program to print factors of 72 in the range of 20 to 80\n",
    "n = 72\n",
    "for i in range(20,80):\n",
    "    if n%i == 0:\n",
    "        print(i,end = \" \")\n",
    "\n",
    "\n",
    "#Write a python program to print list of leap yaers in between range of 1993 to 2024(both are inclusive)"
   ]
  },
  {
   "cell_type": "code",
   "execution_count": 3,
   "id": "18273a72",
   "metadata": {},
   "outputs": [
    {
     "name": "stdout",
     "output_type": "stream",
     "text": [
      "Enter n Value 5\n",
      "15\n"
     ]
    }
   ],
   "source": [
    "#Write a python program to print sum of n natural numbers\n",
    "n = int(input(\"Enter n Value \"))\n",
    "total = 0\n",
    "for i in range(1,n+1):\n",
    "    total = total+i\n",
    "print(total)"
   ]
  },
  {
   "cell_type": "code",
   "execution_count": null,
   "id": "31876cf8",
   "metadata": {},
   "outputs": [],
   "source": [
    "#Write python program to print prime numbers in between given range (lb,ub both are inclusive)\n",
    "#Write a python program to print 15 table \n",
    "#   Expected O/P : 15X1 = 15\n",
    "\n",
    "#Write a python program to print the given rollnumber series from 301 to 320 \n",
    "#  Example 224E1A1301,224E1A1302,......224E1A1320\n",
    "\n",
    "#Write a python program to check given number is a palindrome or not?\n",
    "                    "
   ]
  }
 ],
 "metadata": {
  "kernelspec": {
   "display_name": "Python 3 (ipykernel)",
   "language": "python",
   "name": "python3"
  },
  "language_info": {
   "codemirror_mode": {
    "name": "ipython",
    "version": 3
   },
   "file_extension": ".py",
   "mimetype": "text/x-python",
   "name": "python",
   "nbconvert_exporter": "python",
   "pygments_lexer": "ipython3",
   "version": "3.9.13"
  }
 },
 "nbformat": 4,
 "nbformat_minor": 5
}
