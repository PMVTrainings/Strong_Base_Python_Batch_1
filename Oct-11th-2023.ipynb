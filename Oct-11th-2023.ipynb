{
 "cells": [
  {
   "cell_type": "code",
   "execution_count": 1,
   "id": "ac93309e",
   "metadata": {},
   "outputs": [],
   "source": [
    "#Write python program to print prime numbers in between given range (lb,ub both are inclusive)\n",
    "#Write a python program to print 15 table \n",
    "#   Expected O/P : 15X1 = 15\n",
    "\n",
    "#Write a python program to print the given rollnumber series from 301 to 320 \n",
    "#  Example 224E1A1301,224E1A1302,......224E1A1320\n",
    "\n",
    "#Write a python program to check given number is a palindrome or not?\n",
    "                    "
   ]
  },
  {
   "cell_type": "code",
   "execution_count": 4,
   "id": "51da591b",
   "metadata": {},
   "outputs": [
    {
     "name": "stdout",
     "output_type": "stream",
     "text": [
      "Enter n Value -7\n",
      "-7  is not a Prime Number\n"
     ]
    }
   ],
   "source": [
    "#Write python program to print prime numbers in between given range (lb,ub both are inclusive)\n",
    "#What is a Prime Number\n",
    "#Example 7 ==> 7 fctors 1 & 7, 6==> 1,2,3,6\n",
    "\n",
    "n = int(input(\"Enter n Value \"))\n",
    "fc = 0  #Factors Count\n",
    "for i in range(1,n+1):\n",
    "    if n%i == 0:\n",
    "        fc = fc+1\n",
    "if fc == 2:\n",
    "    print(n,\" is a Prime Number\")\n",
    "else:\n",
    "    print(n,\" is not a Prime Number\")\n",
    "\n"
   ]
  },
  {
   "cell_type": "code",
   "execution_count": 8,
   "id": "5fc99717",
   "metadata": {},
   "outputs": [
    {
     "name": "stdout",
     "output_type": "stream",
     "text": [
      "Enter lb value -100\n",
      "Enter ub value -200\n"
     ]
    }
   ],
   "source": [
    "lb = int(input(\"Enter lb value \"))#10\n",
    "ub = int(input(\"Enter ub value \"))#20\n",
    "for j in range(lb,ub+1):\n",
    "    fc = 0\n",
    "    for i in range(1,j+1):\n",
    "        if j%i == 0:\n",
    "            fc = fc + 1\n",
    "    if fc == 2:\n",
    "        print(j,end = \" \")"
   ]
  },
  {
   "cell_type": "code",
   "execution_count": 11,
   "id": "a48f08cf",
   "metadata": {},
   "outputs": [
    {
     "name": "stdout",
     "output_type": "stream",
     "text": [
      "224E1A1 301\n",
      "224E1A1 302\n",
      "224E1A1 303\n",
      "224E1A1 304\n",
      "224E1A1 305\n",
      "224E1A1 306\n",
      "224E1A1 307\n",
      "224E1A1 308\n",
      "224E1A1 309\n",
      "224E1A1 310\n",
      "224E1A1 311\n",
      "224E1A1 312\n",
      "224E1A1 313\n",
      "224E1A1 314\n",
      "224E1A1 315\n",
      "224E1A1 316\n",
      "224E1A1 317\n",
      "224E1A1 318\n",
      "224E1A1 319\n"
     ]
    }
   ],
   "source": [
    "#Write a python program to print the given rollnumber series from 301 to 320 \n",
    "#  Example 224E1A1301,224E1A1302,......224E1A1320\n",
    "for i in range(301,320):\n",
    "    print(\"224E1A1\",i)"
   ]
  },
  {
   "cell_type": "code",
   "execution_count": 1,
   "id": "9be019ea",
   "metadata": {},
   "outputs": [
    {
     "name": "stdout",
     "output_type": "stream",
     "text": [
      "PMV Trainings\n",
      "PMV Trainings\n",
      "PMV Trainings\n",
      "PMV Trainings\n",
      "PMV Trainings\n",
      "PMV Trainings\n",
      "PMV Trainings\n",
      "PMV Trainings\n",
      "PMV Trainings\n"
     ]
    }
   ],
   "source": [
    "#while loop\n",
    "#syntax: while condition:\n",
    "#                statements\n",
    "#                increament/decrement\n",
    "n = 1\n",
    "while n<10:\n",
    "    print(\"PMV Trainings\")\n",
    "    n = n+1"
   ]
  },
  {
   "cell_type": "code",
   "execution_count": 12,
   "id": "73411f7c",
   "metadata": {},
   "outputs": [
    {
     "name": "stdout",
     "output_type": "stream",
     "text": [
      "Enter N Value 520\n",
      "520 not a palindrome\n"
     ]
    }
   ],
   "source": [
    "#Write a python program to check given number is a palindrome or not?\n",
    "#323 \n",
    "n = int (input(\"Enter N Value \"))\n",
    "stn = n#323\n",
    "revn = 0\n",
    "while n>0:#323,32,3\n",
    "    div = n%10#3,2,3\n",
    "    revn = revn*10+div#3,32,323\n",
    "    n = n//10#32,3,0\n",
    "if stn == revn:\n",
    "    print(stn,\"is a palindrome\")\n",
    "else:\n",
    "    print(stn,\"not a palindrome\")\n",
    "    \n",
    "    \n",
    "\n"
   ]
  },
  {
   "cell_type": "code",
   "execution_count": 9,
   "id": "0a89e603",
   "metadata": {},
   "outputs": [
    {
     "data": {
      "text/plain": [
       "3"
      ]
     },
     "execution_count": 9,
     "metadata": {},
     "output_type": "execute_result"
    }
   ],
   "source": [
    "3%10"
   ]
  },
  {
   "cell_type": "code",
   "execution_count": 3,
   "id": "eba6ad26",
   "metadata": {},
   "outputs": [
    {
     "data": {
      "text/plain": [
       "3"
      ]
     },
     "execution_count": 3,
     "metadata": {},
     "output_type": "execute_result"
    }
   ],
   "source": [
    "0*10+3"
   ]
  },
  {
   "cell_type": "code",
   "execution_count": 10,
   "id": "abe6e0ce",
   "metadata": {},
   "outputs": [
    {
     "data": {
      "text/plain": [
       "0"
      ]
     },
     "execution_count": 10,
     "metadata": {},
     "output_type": "execute_result"
    }
   ],
   "source": [
    "3//10"
   ]
  },
  {
   "cell_type": "code",
   "execution_count": 10,
   "id": "23929779",
   "metadata": {},
   "outputs": [
    {
     "data": {
      "text/plain": [
       "2"
      ]
     },
     "execution_count": 10,
     "metadata": {},
     "output_type": "execute_result"
    }
   ],
   "source": [
    "32%10"
   ]
  },
  {
   "cell_type": "code",
   "execution_count": 12,
   "id": "b74024fa",
   "metadata": {},
   "outputs": [
    {
     "name": "stdout",
     "output_type": "stream",
     "text": [
      "20\n",
      "1 2 3 4 5 6 7 8 9 10 11 12 13 14 15 16 17 18 19 "
     ]
    }
   ],
   "source": [
    "#Write a program to n natiral numbers\n",
    "n = int(input())\n",
    "i = 1\n",
    "while n!=i:\n",
    "    print(i,end = \" \")\n",
    "    i = i+1"
   ]
  },
  {
   "cell_type": "code",
   "execution_count": null,
   "id": "0d98a65d",
   "metadata": {},
   "outputs": [],
   "source": []
  }
 ],
 "metadata": {
  "kernelspec": {
   "display_name": "Python 3 (ipykernel)",
   "language": "python",
   "name": "python3"
  },
  "language_info": {
   "codemirror_mode": {
    "name": "ipython",
    "version": 3
   },
   "file_extension": ".py",
   "mimetype": "text/x-python",
   "name": "python",
   "nbconvert_exporter": "python",
   "pygments_lexer": "ipython3",
   "version": "3.9.13"
  }
 },
 "nbformat": 4,
 "nbformat_minor": 5
}
