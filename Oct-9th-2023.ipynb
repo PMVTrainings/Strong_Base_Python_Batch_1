{
 "cells": [
  {
   "cell_type": "markdown",
   "id": "b2b55abb",
   "metadata": {},
   "source": [
    "# Today Objectives\n",
    "- Bitwise Operators\n",
    "- Conditional Statements\n",
    "- Iterations"
   ]
  },
  {
   "cell_type": "code",
   "execution_count": 6,
   "id": "a46e41ef",
   "metadata": {},
   "outputs": [
    {
     "name": "stdout",
     "output_type": "stream",
     "text": [
      "2\n",
      "14\n",
      "12\n",
      "-11\n",
      "40\n",
      "2\n"
     ]
    }
   ],
   "source": [
    "#BitWise Operators(&,|,^(X-OR),~,<<,>>)\n",
    "a = 10\n",
    "b = 6\n",
    "#  8421     32168421  1286432168421\n",
    "#a 1010\n",
    "#b 0110\n",
    "#----------------\n",
    "#& 0010 ==> 2\n",
    "#| 1110 ==> 14\n",
    "print(a&b)\n",
    "print(a|b)\n",
    "print(a^b)\n",
    "print(~a)#-(a+1) ==> - (10+1) ==> -11\n",
    "print(a<<2)# n*2^n ==> 10*2^2 ==> 40 \n",
    "print(a>>2)#n//n^n ==> 10//4 ==> 2"
   ]
  },
  {
   "cell_type": "markdown",
   "id": "3366af66",
   "metadata": {},
   "source": [
    "## Conditional Statements"
   ]
  },
  {
   "cell_type": "markdown",
   "id": "962cb740",
   "metadata": {},
   "source": [
    "- IF\n",
    "- IF - Else\n",
    "- Nested IF\n",
    "- Elif"
   ]
  },
  {
   "cell_type": "code",
   "execution_count": 9,
   "id": "f02eacbe",
   "metadata": {},
   "outputs": [
    {
     "name": "stdout",
     "output_type": "stream",
     "text": [
      "U are eligible for VOTE\n"
     ]
    }
   ],
   "source": [
    "#If \n",
    "#Syntax if condition:\n",
    "a = 25\n",
    "if a>=18:\n",
    "    print(\"U are eligible for VOTE\")\n",
    "    "
   ]
  },
  {
   "cell_type": "code",
   "execution_count": 19,
   "id": "4266526c",
   "metadata": {},
   "outputs": [
    {
     "name": "stdout",
     "output_type": "stream",
     "text": [
      "25\n",
      "U r eligible for VOTE\n"
     ]
    }
   ],
   "source": [
    "#If you want to convert str to int then we have method int()\n",
    "a = int(input())\n",
    "if a>=18:\n",
    "    print(\"U r eligible for VOTE\")"
   ]
  },
  {
   "cell_type": "code",
   "execution_count": 21,
   "id": "bc9eec69",
   "metadata": {},
   "outputs": [
    {
     "name": "stdout",
     "output_type": "stream",
     "text": [
      "6\n",
      "Even\n"
     ]
    }
   ],
   "source": [
    "#IF - ELSE\n",
    "#Syntax: if condition:\n",
    "#              print()\n",
    "#            else:\n",
    "#              print()\n",
    "#Write a python program for to check given number is odd or even\n",
    "n = int(input())\n",
    "if n%2 == 0:\n",
    "    print(\"Even\")\n",
    "else:\n",
    "    print(\"Odd\")\n",
    "\n"
   ]
  },
  {
   "cell_type": "code",
   "execution_count": 28,
   "id": "19bf253c",
   "metadata": {},
   "outputs": [
    {
     "name": "stdout",
     "output_type": "stream",
     "text": [
      "2024\n",
      "Leap Year\n"
     ]
    }
   ],
   "source": [
    "#Write a python program the to check given year is leap year or not\n",
    "year = int(input())\n",
    "if year % 4 == 0:\n",
    "    print(\"Leap Year\")\n",
    "else:\n",
    "    print(\"Not Leap year\")\n",
    "\n",
    "#Write a python program to check given number is positive or negative"
   ]
  },
  {
   "cell_type": "code",
   "execution_count": 30,
   "id": "bb668785",
   "metadata": {},
   "outputs": [
    {
     "name": "stdout",
     "output_type": "stream",
     "text": [
      "-3\n",
      "Negative\n"
     ]
    }
   ],
   "source": [
    "#Write a python program to check given number is positive or negative\n",
    "n = int(input())\n",
    "if n>0:\n",
    "    print(\"Positive\")\n",
    "else:\n",
    "    print(\"Negative\")"
   ]
  },
  {
   "cell_type": "code",
   "execution_count": 33,
   "id": "78c532bb",
   "metadata": {},
   "outputs": [
    {
     "name": "stdout",
     "output_type": "stream",
     "text": [
      "Enter a Number-23\n",
      "The given number is negative\n"
     ]
    }
   ],
   "source": [
    "#Nested If\n",
    "#Write python program to check given numnber is odd or even\n",
    "n = int(input(\"Enter a Number\"))\n",
    "if n>0:\n",
    "    if n%2 == 0:\n",
    "        print(n,\" is Even\")\n",
    "    else:\n",
    "        print(n,\" is Odd\")\n",
    "else:\n",
    "    print(\"The given number is negative\")\n"
   ]
  },
  {
   "cell_type": "code",
   "execution_count": 38,
   "id": "c463a4bb",
   "metadata": {},
   "outputs": [
    {
     "name": "stdout",
     "output_type": "stream",
     "text": [
      "Enter a Number 7\n",
      "SAT\n"
     ]
    }
   ],
   "source": [
    "#Elif\n",
    "#Syntax if condition \n",
    "#       elif condition\n",
    "#       elif condition\n",
    "#Write a python program to print 7 week days\n",
    "n = int(input(\"Enter a Number \"))\n",
    "if n>=1 and n<=7:\n",
    "    if n == 1:\n",
    "        print(\"SUN\")\n",
    "    elif n == 2:\n",
    "        print(\"MON\")\n",
    "    elif n == 3:\n",
    "        print(\"TUE\")\n",
    "    elif n == 4:\n",
    "        print(\"WED\")\n",
    "    elif n == 5:\n",
    "        print(\"THU\")\n",
    "    elif n == 6:\n",
    "        print(\"FRI\")\n",
    "    elif n == 7:\n",
    "        print(\"SAT\")\n",
    "else:\n",
    "    print(\"Out of Range\")"
   ]
  },
  {
   "cell_type": "code",
   "execution_count": null,
   "id": "1087a04e",
   "metadata": {},
   "outputs": [],
   "source": []
  }
 ],
 "metadata": {
  "kernelspec": {
   "display_name": "Python 3 (ipykernel)",
   "language": "python",
   "name": "python3"
  },
  "language_info": {
   "codemirror_mode": {
    "name": "ipython",
    "version": 3
   },
   "file_extension": ".py",
   "mimetype": "text/x-python",
   "name": "python",
   "nbconvert_exporter": "python",
   "pygments_lexer": "ipython3",
   "version": "3.9.13"
  }
 },
 "nbformat": 4,
 "nbformat_minor": 5
}
