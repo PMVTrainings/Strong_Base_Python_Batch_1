{
 "cells": [
  {
   "cell_type": "code",
   "execution_count": null,
   "id": "11e62811",
   "metadata": {},
   "outputs": [],
   "source": []
  },
  {
   "cell_type": "markdown",
   "id": "84ebdf5e",
   "metadata": {},
   "source": [
    "### Comprehensions in python\n",
    "- less code or single line code\n",
    "- 4 types of Comprehensinos\n",
    "    - List Comprehension\n",
    "    - Dictionary Comprehension\n",
    "    - Set Comprehension\n",
    "    - Generator Comprehension\n"
   ]
  },
  {
   "cell_type": "code",
   "execution_count": 2,
   "id": "a0a83679",
   "metadata": {},
   "outputs": [
    {
     "name": "stdout",
     "output_type": "stream",
     "text": [
      "Enter a value 10\n",
      "1 2 3 4 5 6 7 8 9 10 "
     ]
    }
   ],
   "source": [
    "#List Comprehension\n",
    "#It will return List\n",
    "#If i want to print the n natural numbers \n",
    "#With Out List Comprehension\n",
    "n = int(input(\"Enter a value \"))\n",
    "for i in range(1,n+1):\n",
    "    print(i,end = \" \")"
   ]
  },
  {
   "cell_type": "code",
   "execution_count": 7,
   "id": "b997ee81",
   "metadata": {},
   "outputs": [
    {
     "name": "stdout",
     "output_type": "stream",
     "text": [
      "20\n"
     ]
    }
   ],
   "source": [
    "#If i want to print the n natural numbers \n",
    "#With List Comprehension\n",
    "n = int(input())\n",
    "natural_numbers = [var for var in range(1,n+1)]"
   ]
  },
  {
   "cell_type": "code",
   "execution_count": 8,
   "id": "4ed03c59",
   "metadata": {},
   "outputs": [
    {
     "data": {
      "text/plain": [
       "[1, 2, 3, 4, 5, 6, 7, 8, 9, 10, 11, 12, 13, 14, 15, 16, 17, 18, 19, 20]"
      ]
     },
     "execution_count": 8,
     "metadata": {},
     "output_type": "execute_result"
    }
   ],
   "source": [
    "natural_numbers"
   ]
  },
  {
   "cell_type": "code",
   "execution_count": 9,
   "id": "2bdd6447",
   "metadata": {},
   "outputs": [
    {
     "name": "stdout",
     "output_type": "stream",
     "text": [
      "2 4 6 8 10 12 14 16 18 20 "
     ]
    }
   ],
   "source": [
    "#Write a logic for to print even numbers from above list\n",
    "#With out List Comprehension\n",
    "for i in natural_numbers:\n",
    "    if i%2 == 0:\n",
    "        print(i,end = \" \")"
   ]
  },
  {
   "cell_type": "code",
   "execution_count": 10,
   "id": "b226c712",
   "metadata": {},
   "outputs": [],
   "source": [
    "#Write a logic for to print even numbers from above list\n",
    "#With List Comprehension\n",
    "evenNumbersList = [i for i in natural_numbers if i%2 == 0]"
   ]
  },
  {
   "cell_type": "code",
   "execution_count": 11,
   "id": "25a28001",
   "metadata": {},
   "outputs": [
    {
     "data": {
      "text/plain": [
       "[2, 4, 6, 8, 10, 12, 14, 16, 18, 20]"
      ]
     },
     "execution_count": 11,
     "metadata": {},
     "output_type": "execute_result"
    }
   ],
   "source": [
    "evenNumbersList"
   ]
  },
  {
   "cell_type": "code",
   "execution_count": 13,
   "id": "3d851d69",
   "metadata": {},
   "outputs": [],
   "source": [
    "#Write Comprehension logic for to print the squres of the below list elements\n",
    "# li = [1,2,3,4,5,6]\n",
    "#Expected O/p : [1,4,9,16,..] i**2\n",
    "li = [1,2,3,4,5,6]\n",
    "sli = [i**2 for i in li]"
   ]
  },
  {
   "cell_type": "code",
   "execution_count": 14,
   "id": "b3610457",
   "metadata": {},
   "outputs": [
    {
     "data": {
      "text/plain": [
       "[1, 4, 9, 16, 25, 36]"
      ]
     },
     "execution_count": 14,
     "metadata": {},
     "output_type": "execute_result"
    }
   ],
   "source": [
    "sli"
   ]
  },
  {
   "cell_type": "markdown",
   "id": "743a7401",
   "metadata": {},
   "source": [
    "#### Dictionary Comprehension"
   ]
  },
  {
   "cell_type": "code",
   "execution_count": 15,
   "id": "a59d2469",
   "metadata": {},
   "outputs": [
    {
     "data": {
      "text/plain": [
       "{1: 1, 2: 4, 3: 9, 4: 16, 5: 25, 6: 36}"
      ]
     },
     "execution_count": 15,
     "metadata": {},
     "output_type": "execute_result"
    }
   ],
   "source": [
    "#Dictionary Comprehension\n",
    "#Write Comprehension logic for to print the squres of the below list elements\n",
    "# li = [1,2,3,4,5,6]\n",
    "#With out Dictionary Comprehension \n",
    "# {1:1,2:4,3:9,....}\n",
    "\n",
    "li = [1,2,3,4,5,6]\n",
    "sqdict = {}\n",
    "for i in li:\n",
    "    sqdict[i] = i**2\n",
    "sqdict\n"
   ]
  },
  {
   "cell_type": "code",
   "execution_count": 17,
   "id": "bf0209f0",
   "metadata": {},
   "outputs": [],
   "source": [
    "#Write Comprehension logic for to print the squres of the below list elements\n",
    "# li = [1,2,3,4,5,6]\n",
    "#With Dictionary Comprehension \n",
    "# {1:1,2:4,3:9,....}\n",
    "sqDict = {i:i**2 for i in li }"
   ]
  },
  {
   "cell_type": "code",
   "execution_count": 18,
   "id": "8977f5cb",
   "metadata": {},
   "outputs": [
    {
     "data": {
      "text/plain": [
       "{1: 1, 2: 4, 3: 9, 4: 16, 5: 25, 6: 36}"
      ]
     },
     "execution_count": 18,
     "metadata": {},
     "output_type": "execute_result"
    }
   ],
   "source": [
    "sqDict"
   ]
  },
  {
   "cell_type": "code",
   "execution_count": 19,
   "id": "0a31619f",
   "metadata": {},
   "outputs": [],
   "source": [
    "li1 = ['name','mobileno','email']\n",
    "li2 = ['Mastan',6301067787,'pmvtrainings@gmail.com']\n",
    "#expecO/p : {'name':'Mastan','mobileno':6301067787,'email':'pmvtrainings@gmail.com'}\n",
    "maindict = {key:value for (key,value) in zip(li1,li2)}"
   ]
  },
  {
   "cell_type": "code",
   "execution_count": 21,
   "id": "82758397",
   "metadata": {},
   "outputs": [
    {
     "data": {
      "text/plain": [
       "{'name': 'Mastan', 'mobileno': 6301067787, 'email': 'pmvtrainings@gmail.com'}"
      ]
     },
     "execution_count": 21,
     "metadata": {},
     "output_type": "execute_result"
    }
   ],
   "source": [
    "maindict"
   ]
  },
  {
   "cell_type": "markdown",
   "id": "7f139513",
   "metadata": {},
   "source": [
    "### Set Comprehension"
   ]
  },
  {
   "cell_type": "code",
   "execution_count": 22,
   "id": "a13e8226",
   "metadata": {},
   "outputs": [],
   "source": [
    "#Set Comprehension\n",
    "li = [1,4,2,3,2,4,5,6]\n",
    "sqset = {i**2 for i in li}"
   ]
  },
  {
   "cell_type": "code",
   "execution_count": 23,
   "id": "01f34614",
   "metadata": {},
   "outputs": [
    {
     "data": {
      "text/plain": [
       "{1, 4, 9, 16, 25, 36}"
      ]
     },
     "execution_count": 23,
     "metadata": {},
     "output_type": "execute_result"
    }
   ],
   "source": [
    "sqset"
   ]
  },
  {
   "cell_type": "markdown",
   "id": "1d36c4a9",
   "metadata": {},
   "source": [
    "### Generator Comprehension"
   ]
  },
  {
   "cell_type": "code",
   "execution_count": 1,
   "id": "d9c18816",
   "metadata": {},
   "outputs": [],
   "source": [
    "#Generator Comprehension\n",
    "li = [1,4,2,3,2,4,5,6]\n",
    "sqgen = (i**2 for i in li)"
   ]
  },
  {
   "cell_type": "code",
   "execution_count": 25,
   "id": "2dec51c5",
   "metadata": {},
   "outputs": [
    {
     "data": {
      "text/plain": [
       "<generator object <genexpr> at 0x0000023CF0857D60>"
      ]
     },
     "execution_count": 25,
     "metadata": {},
     "output_type": "execute_result"
    }
   ],
   "source": [
    "sqgen"
   ]
  },
  {
   "cell_type": "code",
   "execution_count": 26,
   "id": "70885077",
   "metadata": {},
   "outputs": [
    {
     "data": {
      "text/plain": [
       "generator"
      ]
     },
     "execution_count": 26,
     "metadata": {},
     "output_type": "execute_result"
    }
   ],
   "source": [
    "type(sqgen)"
   ]
  },
  {
   "cell_type": "code",
   "execution_count": 2,
   "id": "9b64b8b4",
   "metadata": {},
   "outputs": [
    {
     "name": "stdout",
     "output_type": "stream",
     "text": [
      "1 16 4 9 4 16 25 36 "
     ]
    }
   ],
   "source": [
    "for i in sqgen:\n",
    "    print(i,end = \" \")"
   ]
  },
  {
   "cell_type": "code",
   "execution_count": 3,
   "id": "903c5dfc",
   "metadata": {},
   "outputs": [
    {
     "name": "stdout",
     "output_type": "stream",
     "text": [
      "<generator object <genexpr> at 0x000001C6B775A3C0>\n"
     ]
    }
   ],
   "source": [
    "print(sqgen)"
   ]
  },
  {
   "cell_type": "code",
   "execution_count": null,
   "id": "c9e179b6",
   "metadata": {},
   "outputs": [],
   "source": []
  }
 ],
 "metadata": {
  "kernelspec": {
   "display_name": "Python 3 (ipykernel)",
   "language": "python",
   "name": "python3"
  },
  "language_info": {
   "codemirror_mode": {
    "name": "ipython",
    "version": 3
   },
   "file_extension": ".py",
   "mimetype": "text/x-python",
   "name": "python",
   "nbconvert_exporter": "python",
   "pygments_lexer": "ipython3",
   "version": "3.9.13"
  }
 },
 "nbformat": 4,
 "nbformat_minor": 5
}
